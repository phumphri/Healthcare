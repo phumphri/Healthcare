{
 "cells": [
  {
   "cell_type": "markdown",
   "metadata": {},
   "source": [
    "# Health of a Nation"
   ]
  },
  {
   "cell_type": "markdown",
   "metadata": {},
   "source": [
    "## Summary\n",
    "This application compares two attributes against the percentage of poverty.  The first is the percentage of the population\n",
    "lacking healthcare.  Second, the percentage of the population against the percentage of poverty.  Both comparisons are done\n",
    "by state, District of Columbia, and Puerto Rico."
   ]
  },
  {
   "cell_type": "markdown",
   "metadata": {},
   "source": [
    "## Data Acquisition\n",
    "### United States Census Bureau\n",
    "Healthcare information was downloaded for the following paramenters:\n",
    "* Dataset:  2014 ACS 1-year estimates\n",
    "* Filter:  Health Insurance\n",
    "* Filter:  Poverty\n",
    "* Filter:  All States within United States and Puerto Rico\n",
    "### Behavioral Risk Factor Suyrveilance System\n",
    "Binge drinking was downloaded for the same dimensions as from the Census Bureau.\n",
    "### Consolidation\n",
    "Both downloads were manually merged into a single csv file."
   ]
  },
  {
   "cell_type": "markdown",
   "metadata": {},
   "source": [
    "## Data Visualization\n",
    "Scatter plots are used for data visualization.  Actual, a single, parameterized javascript application dynamically \n",
    "creates a scatter.  Depending on the parameter, which is a column name of a csv file, the plot is rendered.  This allows for \n",
    "easy extention of the application."
   ]
  },
  {
   "cell_type": "markdown",
   "metadata": {},
   "source": [
    "## Execution\n",
    "* Initialize a directory for github processing.\n",
    "* Pull the repository.\n",
    "* Run python -m http.server from the directory.\n",
    "* Select index.html.\n",
    "* When index.html is displayed, a sub-display of \"Lacking Healthcare\" or \"Binge Drinking\" can be selected from a menu.\n",
    "The application is designed to be extended.  Additional topics can be displayed by adding columns to the data.csv source file\n",
    "and, adding corresponding html pages, and adding the link to the toc.html file (table of contents)."
   ]
  }
 ],
 "metadata": {
  "kernelspec": {
   "display_name": "Python 3",
   "language": "python",
   "name": "python3"
  },
  "language_info": {
   "codemirror_mode": {
    "name": "ipython",
    "version": 3
   },
   "file_extension": ".py",
   "mimetype": "text/x-python",
   "name": "python",
   "nbconvert_exporter": "python",
   "pygments_lexer": "ipython3",
   "version": "3.6.3"
  }
 },
 "nbformat": 4,
 "nbformat_minor": 2
}
